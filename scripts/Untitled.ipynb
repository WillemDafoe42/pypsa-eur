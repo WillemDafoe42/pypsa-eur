{
 "cells": [
  {
   "cell_type": "code",
   "execution_count": 2,
   "id": "f34ed6ff",
   "metadata": {},
   "outputs": [],
   "source": [
    "# copied stuff from broken pypsa-rd network"
   ]
  },
  {
   "cell_type": "code",
   "execution_count": null,
   "id": "b17caf3b",
   "metadata": {},
   "outputs": [],
   "source": [
    "# 220 nodes\n",
    "\n",
    "#n_d, n_rd = solve_redispatch_workflow(filename = \\\"elec_s300_220_ec_lcopt_1H-noex\\\")\n",
    "\n",
    "n_d, n_rd, n_rd_bat = solve_redispatch_workflow(filename = \\\"elec_s300_220_ec_lcopt_1H-noex\\\") \n",
    "\n",
    "print(abs(n_rd.lines_t.p0).max(axis=0).sort_values())\n",
    "\n",
    "print(n_rd.objective)\n",
    "\n",
    "\n",
    "# display(n_rd.buses)\n",
    "\n",
    "\n",
    "# display(n_rd.generators.groupby(\\\"carrier\\\").sum())\n",
    "\n",
    "\n",
    "# display(n_rd_bat.links)\n",
    "# display(n_rd_bat.links_t.p0)\n",
    "\n",
    "\n",
    "#n_rd_bat.stores_t.e.sum(axis=1).plot(figsize =(15,5))\n",
    "#n_rd_bat.stores_t.p.sum(axis=1).plot(figsize =(15,5))\n",
    "\n",
    "obj_year,df_obj, df_obj_day = analyze_objective_rd(n_rd)\n",
    "\n",
    "\n",
    "#df_obj, df_obj_day = analyze_objective(n_rd, n_rd_bat)\n",
    "\n",
    "\n",
    "# Plot spatial line loadings\n",
    "fig, ax2 = plt.subplots(figsize=(11,11), subplot_kw={\\\"projection\\\": ccrs.PlateCarree()})\n",
    "fig = plot_line_loadings(n_rd, snakemake.config, ax2, opts)\n",
    "# fig, ax2_ = plt.subplots(figsize=(10,10), subplot_kw={\\\"projection\\\": ccrs.PlateCarree()})\n",
    "# fig = plot_line_loadings(nrd_bat, snakemake.config, ax2_, opts)\n",
    "\n",
    "# line congestions:\n",
    "#display(n_rd.lines.sort_values(by=\\\"s_nom\\\"))\n",
    "#display(n_rd.lines_t.p0.abs()/(n_rd.lines.s_nom*n_rd.lines.s_max_pu).sort_index().fillna(0.))\n",
    "#display(n_rd.lines_t.mu_upper.mean(axis=0).sort_values())\""
   ]
  }
 ],
 "metadata": {
  "kernelspec": {
   "display_name": "pypsa-eur",
   "language": "python",
   "name": "pypsa-eur"
  },
  "language_info": {
   "codemirror_mode": {
    "name": "ipython",
    "version": 3
   },
   "file_extension": ".py",
   "mimetype": "text/x-python",
   "name": "python",
   "nbconvert_exporter": "python",
   "pygments_lexer": "ipython3",
   "version": "3.8.5"
  }
 },
 "nbformat": 4,
 "nbformat_minor": 5
}
